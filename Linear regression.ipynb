{
 "cells": [
  {
   "cell_type": "code",
   "execution_count": 496,
   "metadata": {
    "scrolled": true
   },
   "outputs": [],
   "source": [
    "import numpy as np\n",
    "import matplotlib.pyplot as plt"
   ]
  },
  {
   "cell_type": "code",
   "execution_count": 497,
   "metadata": {},
   "outputs": [],
   "source": [
    "m=100\n",
    "X1=np.random.uniform(10,20,m)\n",
    "\n",
    "mu=250;\n",
    "sigma=90;\n",
    "def quad(X):\n",
    "    return 4*X**2+3\n",
    "X2=quad(X1)+np.random.normal(mu,sigma,m)\n",
    "\n"
   ]
  },
  {
   "cell_type": "code",
   "execution_count": 498,
   "metadata": {},
   "outputs": [
    {
     "data": {
      "text/plain": [
       "[<matplotlib.lines.Line2D at 0x7fbac6f7f358>]"
      ]
     },
     "execution_count": 498,
     "metadata": {},
     "output_type": "execute_result"
    },
    {
     "data": {
      "image/png": "[encoded data removed]",
      "text/plain": [
       "<Figure size 432x288 with 1 Axes>"
      ]
     },
     "metadata": {
      "needs_background": "light"
     },
     "output_type": "display_data"
    }
   ],
   "source": [
    "plt.plot(X1,X2,'b.')\n"
   ]
  },
  {
   "cell_type": "code",
   "execution_count": 499,
   "metadata": {},
   "outputs": [
    {
     "data": {
      "text/plain": [
       "(100, 1)"
      ]
     },
     "execution_count": 499,
     "metadata": {},
     "output_type": "execute_result"
    }
   ],
   "source": [
    "x1=np.matrix(X1).T\n",
    "x1.shape"
   ]
  },
  {
   "cell_type": "code",
   "execution_count": 500,
   "metadata": {},
   "outputs": [],
   "source": [
    "x1_con=np.concatenate([np.ones([m,1]),x1],1)"
   ]
  },
  {
   "cell_type": "code",
   "execution_count": 501,
   "metadata": {},
   "outputs": [
    {
     "data": {
      "text/plain": [
       "(100, 1)"
      ]
     },
     "execution_count": 501,
     "metadata": {},
     "output_type": "execute_result"
    }
   ],
   "source": [
    "y=np.matrix(X2).T\n",
    "y.shape"
   ]
  },
  {
   "cell_type": "code",
   "execution_count": 502,
   "metadata": {},
   "outputs": [],
   "source": [
    "theta_opt=np.linalg.inv(x1_con.T*x1_con)*x1_con.T*y"
   ]
  },
  {
   "cell_type": "code",
   "execution_count": 503,
   "metadata": {},
   "outputs": [
    {
     "data": {
      "text/plain": [
       "matrix([[-639.67361237],\n",
       "        [ 121.69601715]])"
      ]
     },
     "execution_count": 503,
     "metadata": {},
     "output_type": "execute_result"
    }
   ],
   "source": [
    "theta_opt"
   ]
  },
  {
   "cell_type": "code",
   "execution_count": 504,
   "metadata": {},
   "outputs": [],
   "source": [
    "actualy=theta_opt.T*x1_con.T"
   ]
  },
  {
   "cell_type": "code",
   "execution_count": 505,
   "metadata": {},
   "outputs": [
    {
     "data": {
      "text/plain": [
       "[<matplotlib.lines.Line2D at 0x7fbac6faefd0>]"
      ]
     },
     "execution_count": 505,
     "metadata": {},
     "output_type": "execute_result"
    },
    {
     "data": {
      "image/png": "[encoded data removed]",
      "text/plain": [
       "<Figure size 432x288 with 1 Axes>"
      ]
     },
     "metadata": {
      "needs_background": "light"
     },
     "output_type": "display_data"
    }
   ],
   "source": [
    "plt.plot(X1,X2,'b.')\n",
    "plt.plot(X1,actualy.T,'r-')"
   ]
  },
  {
   "cell_type": "code",
   "execution_count": 506,
   "metadata": {},
   "outputs": [],
   "source": [
    "def h(theta,x):\n",
    "    return theta.T*x\n",
    "\n",
    "def cost(theta,x, y):\n",
    "    c=h(theta, x)-y\n",
    "    cost=c*c.T\n",
    "    return cost"
   ]
  },
  {
   "cell_type": "code",
   "execution_count": 507,
   "metadata": {},
   "outputs": [],
   "source": [
    "cost1=cost(theta_opt,x1_con.T, y.T)"
   ]
  },
  {
   "cell_type": "code",
   "execution_count": 508,
   "metadata": {},
   "outputs": [
    {
     "name": "stdout",
     "output_type": "stream",
     "text": [
      "cost in new theta:  [[904342.30991321]]\n"
     ]
    }
   ],
   "source": [
    "print(\"cost in new theta: \",cost1)\n"
   ]
  },
  {
   "cell_type": "markdown",
   "metadata": {},
   "source": [
    "# Separating training and test data"
   ]
  },
  {
   "cell_type": "code",
   "execution_count": 509,
   "metadata": {},
   "outputs": [],
   "source": [
    "indices=np.random.permutation(X1.shape[0])\n",
    "train_index, test_index=indices[:80],indices[80:]\n",
    "X1_training,X1_testing=np.matrix(X1[train_index]).T,np.matrix(X1[test_index]).T\n",
    "X2_training,X2_testing=X2[train_index],X2[test_index]\n"
   ]
  },
  {
   "cell_type": "code",
   "execution_count": 510,
   "metadata": {},
   "outputs": [],
   "source": [
    "x1_train_con=np.concatenate([np.ones([80,1]),X1_training],1)\n",
    "x1_test_con=np.concatenate([np.ones([20,1]),X1_testing],1)"
   ]
  },
  {
   "cell_type": "code",
   "execution_count": 511,
   "metadata": {},
   "outputs": [],
   "source": [
    "y_train=np.matrix(X2_training).T\n",
    "y_test=np.matrix(X2_testing).T\n"
   ]
  },
  {
   "cell_type": "code",
   "execution_count": 512,
   "metadata": {},
   "outputs": [],
   "source": [
    "theta_opt_train=np.linalg.inv(x1_train_con.T*x1_train_con)*x1_train_con.T*y_train"
   ]
  },
  {
   "cell_type": "code",
   "execution_count": 513,
   "metadata": {},
   "outputs": [],
   "source": [
    "actual_train_y=theta_opt_train.T*x1_train_con.T\n",
    "actual_test_y=theta_opt_train.T*x1_test_con.T"
   ]
  },
  {
   "cell_type": "code",
   "execution_count": 514,
   "metadata": {},
   "outputs": [
    {
     "name": "stdout",
     "output_type": "stream",
     "text": [
      "************************Training in blue points, testing in red points, training testing both overlaps, data plot***************************\n"
     ]
    },
    {
     "data": {
      "text/plain": [
       "[<matplotlib.lines.Line2D at 0x7fbac6ecdcf8>]"
      ]
     },
     "execution_count": 514,
     "metadata": {},
     "output_type": "execute_result"
    },
    {
     "data": {
      "image/png": "[encoded data removed]",
      "text/plain": [
       "<Figure size 432x288 with 1 Axes>"
      ]
     },
     "metadata": {
      "needs_background": "light"
     },
     "output_type": "display_data"
    }
   ],
   "source": [
    "print(\"************************Training in blue points, testing in red points, training testing both overlaps, data plot***************************\")\n",
    "plt.plot(X1_training,X2_training,'b.')\n",
    "plt.plot(X1_training,actual_train_y.T,'r-')\n",
    "plt.plot(X1_testing,X2_testing,'r.')\n",
    "plt.plot(X1_testing,actual_test_y.T,'k-')\n"
   ]
  },
  {
   "cell_type": "code",
   "execution_count": 515,
   "metadata": {},
   "outputs": [
    {
     "name": "stdout",
     "output_type": "stream",
     "text": [
      "****************Testing data with trained plot********************\n"
     ]
    },
    {
     "data": {
      "text/plain": [
       "[<matplotlib.lines.Line2D at 0x7fbac70616d8>]"
      ]
     },
     "execution_count": 515,
     "metadata": {},
     "output_type": "execute_result"
    },
    {
     "data": {
      "image/png": "[encoded data removed]",
      "text/plain": [
       "<Figure size 432x288 with 1 Axes>"
      ]
     },
     "metadata": {
      "needs_background": "light"
     },
     "output_type": "display_data"
    }
   ],
   "source": [
    "print(\"****************Testing data with trained plot********************\")\n",
    "plt.plot(X1_testing,X2_testing,'r.')\n",
    "plt.plot(X1_training,actual_train_y.T,'r-')\n",
    "\n"
   ]
  },
  {
   "cell_type": "code",
   "execution_count": 516,
   "metadata": {},
   "outputs": [
    {
     "name": "stdout",
     "output_type": "stream",
     "text": [
      "[[637076.92122483]]\n",
      "[[267806.24998965]]\n"
     ]
    }
   ],
   "source": [
    "cost_train=cost(theta_opt_train,x1_train_con.T, y_train.T)\n",
    "print(cost_train)\n",
    "cost_test=cost(theta_opt_train, x1_test_con.T,y_test.T)\n",
    "print(cost_test)"
   ]
  },
  {
   "cell_type": "markdown",
   "metadata": {},
   "source": [
    "## Solving by quadratic ( 1   X1  X1^2)"
   ]
  },
  {
   "cell_type": "code",
   "execution_count": 517,
   "metadata": {},
   "outputs": [],
   "source": [
    "X_quad=np.matrix([X1, np.square(X1)]).T"
   ]
  },
  {
   "cell_type": "code",
   "execution_count": 518,
   "metadata": {},
   "outputs": [],
   "source": [
    "X_quad_con=np.concatenate([np.ones([m,1]),X_quad],1)\n"
   ]
  },
  {
   "cell_type": "code",
   "execution_count": 519,
   "metadata": {},
   "outputs": [],
   "source": [
    "\n",
    "theta_opt_quad=np.linalg.inv(X_quad_con.T*X_quad_con)*X_quad_con.T*y\n"
   ]
  },
  {
   "cell_type": "code",
   "execution_count": 520,
   "metadata": {},
   "outputs": [],
   "source": [
    "actualy_quad=theta_opt_quad.T*X_quad_con.T"
   ]
  },
  {
   "cell_type": "code",
   "execution_count": 521,
   "metadata": {},
   "outputs": [
    {
     "data": {
      "text/plain": [
       "[<matplotlib.lines.Line2D at 0x7fbac6e47048>]"
      ]
     },
     "execution_count": 521,
     "metadata": {},
     "output_type": "execute_result"
    },
    {
     "data": {
      "image/png": "[encoded data removed]",
      "text/plain": [
       "<Figure size 432x288 with 1 Axes>"
      ]
     },
     "metadata": {
      "needs_background": "light"
     },
     "output_type": "display_data"
    }
   ],
   "source": [
    "plt.plot(np.array([X1]).T,np.array([X2]).T,'b.')\n",
    "plt.plot(np.array([X1]).T,actualy_quad.T,'r.')"
   ]
  },
  {
   "cell_type": "code",
   "execution_count": 530,
   "metadata": {},
   "outputs": [
    {
     "data": {
      "text/plain": [
       "[<matplotlib.lines.Line2D at 0x7fbac6d96668>]"
      ]
     },
     "execution_count": 530,
     "metadata": {},
     "output_type": "execute_result"
    },
    {
     "data": {
      "image/png": "[encoded data removed]",
      "text/plain": [
       "<Figure size 432x288 with 1 Axes>"
      ]
     },
     "metadata": {
      "needs_background": "light"
     },
     "output_type": "display_data"
    }
   ],
   "source": [
    "\n",
    "sorted_x=np.sort(X1)\n",
    "\n",
    "sorted_y=np.sort(actualy_quad)\n",
    "\n",
    "plt.plot(np.array([X1]).T,np.array([X2]).T,'b.')\n",
    "plt.plot(sorted_x.T,sorted_y.T,'r-')\n",
    "# plt.plot(X1.T,actualy_quad.T,'r-')"
   ]
  },
  {
   "cell_type": "markdown",
   "metadata": {},
   "source": [
    "# Separating training and testing data\n"
   ]
  },
  {
   "cell_type": "code",
   "execution_count": 523,
   "metadata": {},
   "outputs": [
    {
     "data": {
      "text/plain": [
       "(80, 2)"
      ]
     },
     "execution_count": 523,
     "metadata": {},
     "output_type": "execute_result"
    }
   ],
   "source": [
    "\n",
    "X1_quad_training,X1_quad_testing=np.matrix(X_quad[train_index]),np.matrix(X_quad[test_index])\n",
    "X2_quad_training,X2_quad_testing=X2[train_index],X2[test_index]\n",
    "X1_quad_training.shape"
   ]
  },
  {
   "cell_type": "code",
   "execution_count": 524,
   "metadata": {},
   "outputs": [
    {
     "name": "stdout",
     "output_type": "stream",
     "text": [
      "(80, 3)\n"
     ]
    }
   ],
   "source": [
    "x1_quad_train_con=np.concatenate([np.ones([80,1]),X1_quad_training],1)\n",
    "x1_quad_test_con=np.concatenate([np.ones([20,1]),X1_quad_testing],1)\n",
    "print(x1_quad_train_con.shape)"
   ]
  },
  {
   "cell_type": "code",
   "execution_count": 525,
   "metadata": {},
   "outputs": [],
   "source": [
    "y_quad_train=np.matrix(X2_quad_training).T\n",
    "y_quad_test=np.matrix(X2_quad_testing).T"
   ]
  },
  {
   "cell_type": "code",
   "execution_count": 526,
   "metadata": {},
   "outputs": [],
   "source": [
    "theta_quad_opt_train=np.linalg.inv(x1_quad_train_con.T*x1_quad_train_con)*x1_quad_train_con.T*y_quad_train"
   ]
  },
  {
   "cell_type": "code",
   "execution_count": 527,
   "metadata": {},
   "outputs": [],
   "source": [
    "actual_quad_train_y=theta_quad_opt_train.T*x1_quad_train_con.T\n",
    "actual_quad_test_y=theta_quad_opt_train.T*x1_quad_test_con.T"
   ]
  },
  {
   "cell_type": "code",
   "execution_count": 528,
   "metadata": {},
   "outputs": [
    {
     "name": "stdout",
     "output_type": "stream",
     "text": [
      "************************Training in blue points, testing in red points, training testing both overlaps, data plot***************************\n"
     ]
    },
    {
     "data": {
      "text/plain": [
       "[<matplotlib.lines.Line2D at 0x7fbac6d66eb8>]"
      ]
     },
     "execution_count": 528,
     "metadata": {},
     "output_type": "execute_result"
    },
    {
     "data": {
      "image/png": "[encoded data removed]",
      "text/plain": [
       "<Figure size 432x288 with 1 Axes>"
      ]
     },
     "metadata": {
      "needs_background": "light"
     },
     "output_type": "display_data"
    }
   ],
   "source": [
    "print(\"************************Training in blue points, testing in red points, training testing both overlaps, data plot***************************\")\n",
    "plt.plot(X1_training,X2_training,'b.')\n",
    "plt.plot(X1_training,actual_quad_train_y.T,'r.')\n",
    "plt.plot(X1_testing,X2_testing,'g.')\n",
    "plt.plot(X1_testing,actual_quad_test_y.T,'k.')"
   ]
  },
  {
   "cell_type": "code",
   "execution_count": 538,
   "metadata": {},
   "outputs": [
    {
     "data": {
      "text/plain": [
       "[<matplotlib.lines.Line2D at 0x7fbac698e5f8>]"
      ]
     },
     "execution_count": 538,
     "metadata": {},
     "output_type": "execute_result"
    },
    {
     "data": {
      "image/png": "[encoded data removed]",
      "text/plain": [
       "<Figure size 432x288 with 1 Axes>"
      ]
     },
     "metadata": {
      "needs_background": "light"
     },
     "output_type": "display_data"
    }
   ],
   "source": [
    "plt.plot(X1_testing,X2_testing,'g.')\n",
    "plt.plot(np.sort(X1_testing),np.sort(actual_quad_test_y).T,'k-')"
   ]
  },
  {
   "cell_type": "code",
   "execution_count": null,
   "metadata": {},
   "outputs": [],
   "source": []
  }
 ],
 "metadata": {
  "kernelspec": {
   "display_name": "Python 3",
   "language": "python",
   "name": "python3"
  },
  "language_info": {
   "codemirror_mode": {
    "name": "ipython",
    "version": 3
   },
   "file_extension": ".py",
   "mimetype": "text/x-python",
   "name": "python",
   "nbconvert_exporter": "python",
   "pygments_lexer": "ipython3",
   "version": "3.6.8"
  }
 },
 "nbformat": 4,
 "nbformat_minor": 2
}
